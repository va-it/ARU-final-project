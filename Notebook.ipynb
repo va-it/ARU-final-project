{
 "cells": [
  {
   "cell_type": "markdown",
   "metadata": {},
   "source": [
    "# This is the Jupyter Notebook for the MAGICODE project"
   ]
  },
  {
   "cell_type": "code",
   "execution_count": 1,
   "metadata": {},
   "outputs": [
    {
     "name": "stdout",
     "output_type": "stream",
     "text": [
      "^C\n",
      "Requirement already satisfied: numpy==1.16.2 in c:\\users\\vince\\anaconda3\\lib\\site-packages (1.16.2)\n"
     ]
    }
   ],
   "source": [
    "#!pip install -r requirements.txt\n",
    "# fix issue ValueError: Object arrays cannot be loaded when allow_pickle=False\n",
    "!pip uninstall numpy\n",
    "!pip install numpy==1.16.2"
   ]
  },
  {
   "cell_type": "code",
   "execution_count": 2,
   "metadata": {},
   "outputs": [
    {
     "ename": "FileNotFoundError",
     "evalue": "[WinError 2] The system cannot find the file specified: 'model'",
     "output_type": "error",
     "traceback": [
      "\u001b[1;31m---------------------------------------------------------------------------\u001b[0m",
      "\u001b[1;31mFileNotFoundError\u001b[0m                         Traceback (most recent call last)",
      "\u001b[1;32m<ipython-input-2-fcf2752233f6>\u001b[0m in \u001b[0;36m<module>\u001b[1;34m\u001b[0m\n\u001b[0;32m      1\u001b[0m \u001b[1;32mimport\u001b[0m \u001b[0mos\u001b[0m\u001b[1;33m\u001b[0m\u001b[1;33m\u001b[0m\u001b[0m\n\u001b[1;32m----> 2\u001b[1;33m \u001b[0mos\u001b[0m\u001b[1;33m.\u001b[0m\u001b[0mchdir\u001b[0m\u001b[1;33m(\u001b[0m\u001b[1;34m'model'\u001b[0m\u001b[1;33m)\u001b[0m\u001b[1;33m\u001b[0m\u001b[1;33m\u001b[0m\u001b[0m\n\u001b[0m",
      "\u001b[1;31mFileNotFoundError\u001b[0m: [WinError 2] The system cannot find the file specified: 'model'"
     ]
    }
   ],
   "source": [
    "import os\n",
    "os.chdir('model')"
   ]
  },
  {
   "cell_type": "code",
   "execution_count": 18,
   "metadata": {},
   "outputs": [
    {
     "name": "stdout",
     "output_type": "stream",
     "text": [
      "Splitting datasets, training samples: 68.0, evaluation samples: 34.0\n",
      "Training dataset: ../datasets/training_set\n",
      "Evaluation dataset: ../datasets/eval_set\n"
     ]
    }
   ],
   "source": [
    "# split training set and evaluation set while ensuring no training example in the evaluation set\n",
    "# usage: build_datasets.py <input path> <distribution (default: 2)>\n",
    "%run -i build_datasets.py ../datasets/subset"
   ]
  },
  {
   "cell_type": "code",
   "execution_count": 3,
   "metadata": {
    "scrolled": true
   },
   "outputs": [
    {
     "name": "stdout",
     "output_type": "stream",
     "text": [
      "Converting images to numpy arrays...\n",
      "Numpy arrays saved in ../datasets/training_features\n"
     ]
    }
   ],
   "source": [
    "# transform images (normalized pixel values and resized pictures) in training dataset to numpy arrays (smaller files if you need to upload the set to train your model in the cloud)\n",
    "# usage: convert_imgs_to_arrays.py <input path> <output path>\n",
    "%run -i convert_imgs_to_arrays.py ../datasets/training_set ../datasets/training_features"
   ]
  },
  {
   "cell_type": "code",
   "execution_count": 15,
   "metadata": {},
   "outputs": [],
   "source": [
    "os.chdir('../')\n",
    "if not os.path.exists('bin'):\n",
    "    os.mkdir('bin')\n",
    "os.chdir('model')"
   ]
  },
  {
   "cell_type": "code",
   "execution_count": 5,
   "metadata": {},
   "outputs": [
    {
     "name": "stdout",
     "output_type": "stream",
     "text": [
      "Device mapping:\n",
      "/job:localhost/replica:0/task:0/device:XLA_CPU:0 -> device: XLA_CPU device\n",
      "\n",
      "Loading data...\n",
      "Generating sparse vectors...\n",
      "Dataset size: 1566\n",
      "Vocabulary size: 50\n",
      "Input shape: (256, 256, 3)\n",
      "Output size: 50\n",
      "Parsing data...\n",
      "Epoch 1/10\n",
      "25/24 [==============================] - 289s 12s/step - loss: 3.4243\n",
      "Epoch 2/10\n",
      "25/24 [==============================] - 285s 11s/step - loss: 3.3276\n",
      "Epoch 3/10\n",
      "25/24 [==============================] - 286s 11s/step - loss: 3.2976\n",
      "Epoch 4/10\n",
      "25/24 [==============================] - 283s 11s/step - loss: 3.2108\n",
      "Epoch 5/10\n",
      "25/24 [==============================] - 284s 11s/step - loss: 3.1496\n",
      "Epoch 6/10\n",
      "25/24 [==============================] - 286s 11s/step - loss: 3.1018\n",
      "Epoch 7/10\n",
      "25/24 [==============================] - 289s 12s/step - loss: 3.0449\n",
      "Epoch 8/10\n",
      "25/24 [==============================] - 283s 11s/step - loss: 3.0097\n",
      "Epoch 9/10\n",
      "25/24 [==============================] - 277s 11s/step - loss: 2.9533\n",
      "Epoch 10/10\n",
      "25/24 [==============================] - 278s 11s/step - loss: 2.9319\n"
     ]
    }
   ],
   "source": [
    "# train with generator to avoid having to fit all the data in memory (RECOMMENDED)\n",
    "%run -i train.py ../datasets/training_features ../bin 1"
   ]
  },
  {
   "cell_type": "code",
   "execution_count": 13,
   "metadata": {},
   "outputs": [
    {
     "name": "stdout",
     "output_type": "stream",
     "text": [
      "Vocabulary size: 50\n",
      "Input shape: (256, 256, 3)\n",
      "Output size: 50\n",
      "Result greedy: <START><START><START><START>,{\"element\":\"btn-warning\"},{\"element\":\"btn-warning\"},\"body\":{\"rows\":[{\"cards\":[{\"card\":[{\"element\":\"title\"},\"body\":{\"rows\":[{\"cards\":[{\"card\":[{\"element\":\"title\"},{\"card\":[{\"element\":\"title\"},{\"card\":[{\"element\":\"title\"},{\"card\":[{\"element\":\"title\"},{\"card\":[{\"element\":\"title\"},{\"card\":[{\"element\":\"title\"},{\"card\":[{\"element\":\"title\"},{\"card\":[{\"element\":\"title\"},{\"card\":[{\"element\":\"title\"},{\"card\":[{\"element\":\"title\"},{\"card\":[{\"element\":\"title\"},{\"card\":[{\"element\":\"title\"},{\"card\":[{\"element\":\"title\"},{\"card\":[{\"element\":\"title\"},{\"card\":[{\"element\":\"title\"},{\"card\":[{\"element\":\"title\"},{\"card\":[{\"element\":\"title\"},{\"card\":[{\"element\":\"title\"},{\"card\":[{\"element\":\"title\"},{\"card\":[{\"element\":\"title\"},{\"card\":[{\"element\":\"title\"},{\"card\":[{\"element\":\"title\"},{\"card\":[{\"element\":\"title\"}<END>\n"
     ]
    }
   ],
   "source": [
    "# generate DSL code (.gui file), the default search method is greedy\n",
    "# usage: sample.py <trained weights path> <trained model name> <input image> <output path> <search method (default: greedy)>\n",
    "%run -i sample.py ../bin pix2code ../test.png ../code"
   ]
  },
  {
   "cell_type": "code",
   "execution_count": 16,
   "metadata": {},
   "outputs": [
    {
     "name": "stdout",
     "output_type": "stream",
     "text": [
      "C:\\Users\\vince\\OneDrive - Anglia Ruskin University\\YEAR 3\\Final Project\\MAGICODE\\compiler\n"
     ]
    },
    {
     "ename": "KeyError",
     "evalue": "',\"element\":\"btn-warning\"},\"element\":\"btn-warning\"},\"body\":\"rows\":[\"cards\":[\"card\":[\"element\":\"title\"},\"body\":\"rows\":[\"cards\":[\"card\":[\"element\":\"title\"},\"card\":[\"element\":\"title\"},\"card\":[\"element\":\"title\"},\"card\":[\"element\":\"title\"},\"card\":[\"element\":\"title\"},\"card\":[\"element\":\"title\"},\"card\":[\"element\":\"title\"},\"card\":[\"element\":\"title\"},\"card\":[\"element\":\"title\"},\"card\":[\"element\":\"title\"},\"card\":[\"element\":\"title\"},\"card\":[\"element\":\"title\"},\"card\":[\"element\":\"title\"},\"card\":[\"element\":\"title\"},\"card\":[\"element\":\"title\"},\"card\":[\"element\":\"title\"},\"card\":[\"element\":\"title\"},\"card\":[\"element\":\"title\"},\"card\":[\"element\":\"title\"},\"card\":[\"element\":\"title\"},\"card\":[\"element\":\"title\"},\"card\":[\"element\":\"title\"},\"card\":[\"element\":\"title\"}'",
     "output_type": "error",
     "traceback": [
      "\u001b[1;31m---------------------------------------------------------------------------\u001b[0m",
      "\u001b[1;31mKeyError\u001b[0m                                  Traceback (most recent call last)",
      "\u001b[1;32m~\\OneDrive - Anglia Ruskin University\\YEAR 3\\Final Project\\MAGICODE\\compiler\\web-compiler.py\u001b[0m in \u001b[0;36m<module>\u001b[1;34m\u001b[0m\n\u001b[0;32m     44\u001b[0m \u001b[0moutput_file_path\u001b[0m \u001b[1;33m=\u001b[0m \u001b[1;34m\"{}{}.html\"\u001b[0m\u001b[1;33m.\u001b[0m\u001b[0mformat\u001b[0m\u001b[1;33m(\u001b[0m\u001b[0mpath\u001b[0m\u001b[1;33m,\u001b[0m \u001b[0mfile_uid\u001b[0m\u001b[1;33m)\u001b[0m\u001b[1;33m\u001b[0m\u001b[1;33m\u001b[0m\u001b[0m\n\u001b[0;32m     45\u001b[0m \u001b[1;33m\u001b[0m\u001b[0m\n\u001b[1;32m---> 46\u001b[1;33m \u001b[0mcompiler\u001b[0m\u001b[1;33m.\u001b[0m\u001b[0mcompile\u001b[0m\u001b[1;33m(\u001b[0m\u001b[0minput_file_path\u001b[0m\u001b[1;33m,\u001b[0m \u001b[0moutput_file_path\u001b[0m\u001b[1;33m,\u001b[0m \u001b[0mrendering_function\u001b[0m\u001b[1;33m=\u001b[0m\u001b[0mrender_content_with_text\u001b[0m\u001b[1;33m)\u001b[0m\u001b[1;33m\u001b[0m\u001b[1;33m\u001b[0m\u001b[0m\n\u001b[0m",
      "\u001b[1;32m~\\OneDrive - Anglia Ruskin University\\YEAR 3\\Final Project\\MAGICODE\\compiler\\classes\\Compiler.py\u001b[0m in \u001b[0;36mcompile\u001b[1;34m(self, input_file_path, output_file_path, rendering_function)\u001b[0m\n\u001b[0;32m     38\u001b[0m                     \u001b[0mcurrent_parent\u001b[0m\u001b[1;33m.\u001b[0m\u001b[0madd_child\u001b[0m\u001b[1;33m(\u001b[0m\u001b[0melement\u001b[0m\u001b[1;33m)\u001b[0m\u001b[1;33m\u001b[0m\u001b[1;33m\u001b[0m\u001b[0m\n\u001b[0;32m     39\u001b[0m \u001b[1;33m\u001b[0m\u001b[0m\n\u001b[1;32m---> 40\u001b[1;33m         \u001b[0moutput_html\u001b[0m \u001b[1;33m=\u001b[0m \u001b[0mself\u001b[0m\u001b[1;33m.\u001b[0m\u001b[0mroot\u001b[0m\u001b[1;33m.\u001b[0m\u001b[0mrender\u001b[0m\u001b[1;33m(\u001b[0m\u001b[0mself\u001b[0m\u001b[1;33m.\u001b[0m\u001b[0mdsl_mapping\u001b[0m\u001b[1;33m,\u001b[0m \u001b[0mrendering_function\u001b[0m\u001b[1;33m=\u001b[0m\u001b[0mrendering_function\u001b[0m\u001b[1;33m)\u001b[0m\u001b[1;33m\u001b[0m\u001b[1;33m\u001b[0m\u001b[0m\n\u001b[0m\u001b[0;32m     41\u001b[0m         \u001b[1;32mwith\u001b[0m \u001b[0mopen\u001b[0m\u001b[1;33m(\u001b[0m\u001b[0moutput_file_path\u001b[0m\u001b[1;33m,\u001b[0m \u001b[1;34m'w'\u001b[0m\u001b[1;33m)\u001b[0m \u001b[1;32mas\u001b[0m \u001b[0moutput_file\u001b[0m\u001b[1;33m:\u001b[0m\u001b[1;33m\u001b[0m\u001b[1;33m\u001b[0m\u001b[0m\n\u001b[0;32m     42\u001b[0m             \u001b[0moutput_file\u001b[0m\u001b[1;33m.\u001b[0m\u001b[0mwrite\u001b[0m\u001b[1;33m(\u001b[0m\u001b[0moutput_html\u001b[0m\u001b[1;33m)\u001b[0m\u001b[1;33m\u001b[0m\u001b[1;33m\u001b[0m\u001b[0m\n",
      "\u001b[1;32m~\\OneDrive - Anglia Ruskin University\\YEAR 3\\Final Project\\MAGICODE\\compiler\\classes\\Node.py\u001b[0m in \u001b[0;36mrender\u001b[1;34m(self, mapping, rendering_function)\u001b[0m\n\u001b[0;32m     22\u001b[0m         \u001b[0mcontent\u001b[0m \u001b[1;33m=\u001b[0m \u001b[1;34m\"\"\u001b[0m\u001b[1;33m\u001b[0m\u001b[1;33m\u001b[0m\u001b[0m\n\u001b[0;32m     23\u001b[0m         \u001b[1;32mfor\u001b[0m \u001b[0mchild\u001b[0m \u001b[1;32min\u001b[0m \u001b[0mself\u001b[0m\u001b[1;33m.\u001b[0m\u001b[0mchildren\u001b[0m\u001b[1;33m:\u001b[0m\u001b[1;33m\u001b[0m\u001b[1;33m\u001b[0m\u001b[0m\n\u001b[1;32m---> 24\u001b[1;33m             \u001b[0mcontent\u001b[0m \u001b[1;33m+=\u001b[0m \u001b[0mchild\u001b[0m\u001b[1;33m.\u001b[0m\u001b[0mrender\u001b[0m\u001b[1;33m(\u001b[0m\u001b[0mmapping\u001b[0m\u001b[1;33m,\u001b[0m \u001b[0mrendering_function\u001b[0m\u001b[1;33m)\u001b[0m\u001b[1;33m\u001b[0m\u001b[1;33m\u001b[0m\u001b[0m\n\u001b[0m\u001b[0;32m     25\u001b[0m \u001b[1;33m\u001b[0m\u001b[0m\n\u001b[0;32m     26\u001b[0m         \u001b[0mvalue\u001b[0m \u001b[1;33m=\u001b[0m \u001b[0mmapping\u001b[0m\u001b[1;33m[\u001b[0m\u001b[0mself\u001b[0m\u001b[1;33m.\u001b[0m\u001b[0mkey\u001b[0m\u001b[1;33m]\u001b[0m\u001b[1;33m\u001b[0m\u001b[1;33m\u001b[0m\u001b[0m\n",
      "\u001b[1;32m~\\OneDrive - Anglia Ruskin University\\YEAR 3\\Final Project\\MAGICODE\\compiler\\classes\\Node.py\u001b[0m in \u001b[0;36mrender\u001b[1;34m(self, mapping, rendering_function)\u001b[0m\n\u001b[0;32m     24\u001b[0m             \u001b[0mcontent\u001b[0m \u001b[1;33m+=\u001b[0m \u001b[0mchild\u001b[0m\u001b[1;33m.\u001b[0m\u001b[0mrender\u001b[0m\u001b[1;33m(\u001b[0m\u001b[0mmapping\u001b[0m\u001b[1;33m,\u001b[0m \u001b[0mrendering_function\u001b[0m\u001b[1;33m)\u001b[0m\u001b[1;33m\u001b[0m\u001b[1;33m\u001b[0m\u001b[0m\n\u001b[0;32m     25\u001b[0m \u001b[1;33m\u001b[0m\u001b[0m\n\u001b[1;32m---> 26\u001b[1;33m         \u001b[0mvalue\u001b[0m \u001b[1;33m=\u001b[0m \u001b[0mmapping\u001b[0m\u001b[1;33m[\u001b[0m\u001b[0mself\u001b[0m\u001b[1;33m.\u001b[0m\u001b[0mkey\u001b[0m\u001b[1;33m]\u001b[0m\u001b[1;33m\u001b[0m\u001b[1;33m\u001b[0m\u001b[0m\n\u001b[0m\u001b[0;32m     27\u001b[0m         \u001b[1;32mif\u001b[0m \u001b[0mrendering_function\u001b[0m \u001b[1;32mis\u001b[0m \u001b[1;32mnot\u001b[0m \u001b[1;32mNone\u001b[0m\u001b[1;33m:\u001b[0m\u001b[1;33m\u001b[0m\u001b[1;33m\u001b[0m\u001b[0m\n\u001b[0;32m     28\u001b[0m             \u001b[0mvalue\u001b[0m \u001b[1;33m=\u001b[0m \u001b[0mrendering_function\u001b[0m\u001b[1;33m(\u001b[0m\u001b[0mself\u001b[0m\u001b[1;33m.\u001b[0m\u001b[0mkey\u001b[0m\u001b[1;33m,\u001b[0m \u001b[0mvalue\u001b[0m\u001b[1;33m)\u001b[0m\u001b[1;33m\u001b[0m\u001b[1;33m\u001b[0m\u001b[0m\n",
      "\u001b[1;31mKeyError\u001b[0m: ',\"element\":\"btn-warning\"},\"element\":\"btn-warning\"},\"body\":\"rows\":[\"cards\":[\"card\":[\"element\":\"title\"},\"body\":\"rows\":[\"cards\":[\"card\":[\"element\":\"title\"},\"card\":[\"element\":\"title\"},\"card\":[\"element\":\"title\"},\"card\":[\"element\":\"title\"},\"card\":[\"element\":\"title\"},\"card\":[\"element\":\"title\"},\"card\":[\"element\":\"title\"},\"card\":[\"element\":\"title\"},\"card\":[\"element\":\"title\"},\"card\":[\"element\":\"title\"},\"card\":[\"element\":\"title\"},\"card\":[\"element\":\"title\"},\"card\":[\"element\":\"title\"},\"card\":[\"element\":\"title\"},\"card\":[\"element\":\"title\"},\"card\":[\"element\":\"title\"},\"card\":[\"element\":\"title\"},\"card\":[\"element\":\"title\"},\"card\":[\"element\":\"title\"},\"card\":[\"element\":\"title\"},\"card\":[\"element\":\"title\"},\"card\":[\"element\":\"title\"},\"card\":[\"element\":\"title\"}'"
     ]
    }
   ],
   "source": [
    "os.chdir('../compiler')\n",
    "print(os.getcwd())\n",
    "\n",
    "# compile .gui file to HTML/CSS (Bootstrap style)\n",
    "%run -i web-compiler.py ../code/test.gui"
   ]
  }
 ],
 "metadata": {
  "kernelspec": {
   "display_name": "Python 3",
   "language": "python",
   "name": "python3"
  },
  "language_info": {
   "codemirror_mode": {
    "name": "ipython",
    "version": 3
   },
   "file_extension": ".py",
   "mimetype": "text/x-python",
   "name": "python",
   "nbconvert_exporter": "python",
   "pygments_lexer": "ipython3",
   "version": "3.8.3"
  }
 },
 "nbformat": 4,
 "nbformat_minor": 4
}
