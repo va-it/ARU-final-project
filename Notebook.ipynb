{
 "cells": [
  {
   "cell_type": "markdown",
   "metadata": {},
   "source": [
    "# This is the Jupyter Notebook for the MAGICODE project"
   ]
  },
  {
   "cell_type": "markdown",
   "metadata": {},
   "source": [
<<<<<<< HEAD
    "### Import some libraries and modules that are needed for the code to run"
=======
    "### First install some modules that might not be installed"
>>>>>>> main
   ]
  },
  {
   "cell_type": "code",
<<<<<<< HEAD
   "execution_count": 3,
   "metadata": {},
   "outputs": [],
   "source": [
    "import os\n",
    "import sys\n",
    "import sklearn.model_selection as model_selection\n",
    "import glob\n",
    "import shutil\n",
    "import numpy as np\n",
    "from pathlib import Path\n",
    "from os.path import join\n",
    "from google.colab import files"
=======
   "execution_count": null,
   "metadata": {},
   "outputs": [],
   "source": [
    "# Install a pip package in the current Jupyter kernel\n",
    "# https://jakevdp.github.io/blog/2017/12/05/installing-python-packages-from-jupyter/\n",
    "import sys\n",
    "!{sys.executable} -m pip install tensorflow\n",
    "# install sklearn to use train_test_split function\n",
    "!{sys.executable} -m pip install sklearn\n",
    "# install opencv to use cv2 module in get_preprocessed_img\n",
    "!{sys.executable} -m pip install opencv-python\n",
    "# install pydot to use keras plot_model function\n",
    "# !{sys.executable} -m pip install pydot\n",
    "# install graphviz to use keras plot_model function\n",
    "# !{sys.executable} -m pip install graphviz"
>>>>>>> main
   ]
  },
  {
   "cell_type": "markdown",
   "metadata": {},
   "source": [
<<<<<<< HEAD
    "### Unzip the dataset"
=======
    "### Then import some libraries and modules that are needed for the code to run"
>>>>>>> main
   ]
  },
  {
   "cell_type": "code",
<<<<<<< HEAD
   "execution_count": 4,
   "metadata": {},
   "outputs": [
    {
     "name": "stdout",
     "output_type": "stream",
     "text": [
      "files unzipped\n"
     ]
    }
   ],
   "source": [
    "# join the volumes together into a single zip file\n",
    "!zip -s 0 dataset.zip -O dataset_joined.zip\n",
    "# unzip the newly assembled archive into a folder called all_data\n",
    "!unzip dataset_joined.zip -d ./dataset\n",
    "\n",
    "if os.listdir('./dataset') :\n",
    "    print ('files unzipped')"
=======
   "execution_count": null,
   "metadata": {},
   "outputs": [],
   "source": [
    "import os\n",
    "import sklearn.model_selection as model_selection\n",
    "import glob\n",
    "import shutil\n",
    "import datetime\n",
    "import pydot\n",
    "import numpy as np\n",
    "from pathlib import Path\n",
    "from os.path import join"
>>>>>>> main
   ]
  },
  {
   "cell_type": "markdown",
   "metadata": {},
   "source": [
    "### Define some values used later"
   ]
  },
  {
   "cell_type": "code",
<<<<<<< HEAD
   "execution_count": 31,
   "metadata": {},
   "outputs": [],
   "source": [
    "TRAINING_SET_NAME = 'training_set'\n",
    "EVALUATION_SET_NAME = 'eval_set'\n",
    "IMAGE_SIZE = 256\n",
    "BATCH_SIZE = 64\n",
    "CONTEXT_LENGTH = 48\n",
=======
   "execution_count": null,
   "metadata": {},
   "outputs": [],
   "source": [
    "SOURCE = 'dataset'\n",
    "TRAINING_SET_NAME = 'training_set'\n",
    "EVALUATION_SET_NAME = 'eval_set'\n",
    "TRAINING_FEATURES = 'training_features'\n",
    "EVAL_FEATURES = 'eval_features'\n",
>>>>>>> main
    "START_TOKEN = \"<START>\"\n",
    "END_TOKEN = \"<END>\"\n",
    "PLACEHOLDER = \" \"\n",
    "SEPARATOR = '->'\n",
<<<<<<< HEAD
    "EPOCHS = 10"
=======
    "LOG_DIR = join('logs', 'fit' + datetime.datetime.now().strftime(\"%Y%m%d-%H%M%S\"))\n",
    "# ================================ HYPERPARAMETERS ================================\n",
    "EPOCHS = 30 # Using early stopping, so training might run for less than X epochs\n",
    "IMAGE_SIZE = 256\n",
    "BATCH_SIZE = 64\n",
    "CONTEXT_LENGTH = 48\n",
    "PATIENCE = 5\n",
    "LEARNING_RATE = 0.0001\n",
    "CLIPVALUE = 1.0"
   ]
  },
  {
   "cell_type": "markdown",
   "metadata": {},
   "source": [
    "### Unzip the dataset"
   ]
  },
  {
   "cell_type": "code",
   "execution_count": null,
   "metadata": {},
   "outputs": [],
   "source": [
    "# join the volumes together into a single zip file\n",
    "!zip -s 0 dataset.zip -O dataset_joined.zip\n",
    "# unzip the newly assembled archive into the current folder\n",
    "!unzip dataset_joined.zip -d ./\n",
    "\n",
    "if os.listdir(SOURCE):\n",
    "    print ('files unzipped')"
>>>>>>> main
   ]
  },
  {
   "cell_type": "markdown",
   "metadata": {},
   "source": [
    "### Split dataset into training and evaluation sets"
   ]
  },
  {
   "cell_type": "code",
<<<<<<< HEAD
   "execution_count": 6,
   "metadata": {},
   "outputs": [
    {
     "name": "stdout",
     "output_type": "stream",
     "text": [
      "Training dataset: all_data/dataset/training_set\n",
      "Evaluation dataset: all_data/dataset/eval_set\n"
     ]
    }
   ],
   "source": [
    "# define source folder\n",
    "source = 'dataset'\n",
    "# get all file paths\n",
    "all_files = os.listdir(source)\n",
    "# build a generic image path (e.g. 'all_data/dataset/*.png')\n",
    "images_path = join(source, '*.png')\n",
=======
   "execution_count": null,
   "metadata": {},
   "outputs": [],
   "source": [
    "# get all file paths\n",
    "all_files = os.listdir(SOURCE)\n",
    "# build a generic image path (e.g. 'all_data/dataset/*.png')\n",
    "images_path = join(SOURCE, '*.png')\n",
>>>>>>> main
    "# get all images paths\n",
    "img_files = glob.glob(images_path)\n",
    "# remove files extension from files paths\n",
    "img_files_without_extension = [Path(img_file).stem for img_file in img_files]\n",
    "\n",
<<<<<<< HEAD
    "# training set will be 6 times the size of the evaluation set\n",
    "distribution = 6\n",
    "\n",
    "# splits randomly the files into two sets\n",
    "train_set,eval_set = model_selection.train_test_split(img_files_without_extension, train_size=(distribution / 10))\n",
    "\n",
    "# create the TRAINING_SET_NAME and EVALUATION_SET_NAME directories if they do not exist\n",
    "if not os.path.exists(join(source, TRAINING_SET_NAME)):\n",
    "    os.makedirs(join(source, TRAINING_SET_NAME))\n",
    "if not os.path.exists(join(source, EVALUATION_SET_NAME)):\n",
    "    os.makedirs(join(source, EVALUATION_SET_NAME))\n",
    "\n",
    "# copy the files (img and gui) from the all_data folder into the training_set folder\n",
    "for file in train_set:\n",
    "    shutil.copyfile(join(source, file + '.png'), join(source, TRAINING_SET_NAME, file + '.png'))\n",
    "    shutil.copyfile(join(source, file + '.gui'), join(source, TRAINING_SET_NAME, file + '.gui'))\n",
    "\n",
    "# copy the files (img and gui) from the all_data folder into the eval_set folder\n",
    "for file in eval_set:\n",
    "    shutil.copyfile(join(source, file + '.png'), join(source, EVALUATION_SET_NAME, file + '.png'))\n",
    "    shutil.copyfile(join(source, file + '.gui'), join(source, EVALUATION_SET_NAME, file + '.gui'))\n",
    "\n",
    "print('Training dataset: {}'.format(join(source, TRAINING_SET_NAME)))\n",
    "print('Evaluation dataset: {}'.format(join(source, EVALUATION_SET_NAME)))\n"
=======
    "# splits randomly the files into two sets (train_set = 85% of dataset, eval_set = 15% of dataset)\n",
    "train_set,eval_set = model_selection.train_test_split(img_files_without_extension, train_size=0.85)\n",
    "\n",
    "# create the TRAINING_SET_NAME and EVALUATION_SET_NAME directories if they do not exist\n",
    "if not os.path.exists(join(SOURCE, TRAINING_SET_NAME)):\n",
    "    os.makedirs(join(SOURCE, TRAINING_SET_NAME))\n",
    "if not os.path.exists(join(SOURCE, EVALUATION_SET_NAME)):\n",
    "    os.makedirs(join(SOURCE, EVALUATION_SET_NAME))\n",
    "\n",
    "# copy the files (img and gui) from the all_data folder into the training_set folder\n",
    "for file in train_set:\n",
    "    shutil.copyfile(join(SOURCE, file + '.png'), join(SOURCE, TRAINING_SET_NAME, file + '.png'))\n",
    "    shutil.copyfile(join(SOURCE, file + '.gui'), join(SOURCE, TRAINING_SET_NAME, file + '.gui'))\n",
    "\n",
    "# copy the files (img and gui) from the all_data folder into the eval_set folder\n",
    "for file in eval_set:\n",
    "    shutil.copyfile(join(SOURCE, file + '.png'), join(SOURCE, EVALUATION_SET_NAME, file + '.png'))\n",
    "    shutil.copyfile(join(SOURCE, file + '.gui'), join(SOURCE, EVALUATION_SET_NAME, file + '.gui'))\n",
    "\n",
    "print('Training dataset: {}'.format(join(SOURCE, TRAINING_SET_NAME)))\n",
    "print('Evaluation dataset: {}'.format(join(SOURCE, EVALUATION_SET_NAME)))\n",
    "\n"
>>>>>>> main
   ]
  },
  {
   "cell_type": "markdown",
   "metadata": {},
   "source": [
    "### Define some Classes and functions that will be used a few times"
   ]
  },
  {
   "cell_type": "code",
<<<<<<< HEAD
   "execution_count": 29,
=======
   "execution_count": null,
>>>>>>> main
   "metadata": {},
   "outputs": [],
   "source": [
    "class Utils:\n",
    "    @staticmethod\n",
    "    def sparsify(label_vector, output_size):\n",
    "        sparse_vector = []\n",
    "\n",
    "        for label in label_vector:\n",
    "            sparse_label = np.zeros(output_size)\n",
    "            sparse_label[label] = 1\n",
    "\n",
    "            sparse_vector.append(sparse_label)\n",
    "\n",
    "        return np.array(sparse_vector)\n",
    "\n",
    "    @staticmethod\n",
    "    def get_preprocessed_img(img_path, image_size):\n",
    "        import cv2\n",
    "        img = cv2.imread(img_path)\n",
    "        if not img is None:\n",
    "            img = cv2.resize(img, (image_size, image_size))\n",
    "            img = img.astype('float32')\n",
    "            img /= 255\n",
    "        return img\n",
    "    \n",
    "class Sampler:\n",
    "    def __init__(self, voc_path, input_shape, output_size, context_length):\n",
    "        self.voc = Vocabulary()\n",
    "        self.voc.retrieve(voc_path)\n",
    "\n",
    "        self.input_shape = input_shape\n",
    "        self.output_size = output_size\n",
    "\n",
    "        print('Vocabulary size: {}'.format(self.voc.size))\n",
    "        print('Input shape: {}'.format(self.input_shape))\n",
    "        print('Output size: {}'.format(self.output_size))\n",
    "\n",
    "        self.context_length = context_length\n",
    "\n",
    "    def predict_greedy(self, model, input_img, require_sparse_label=True, sequence_length=150, verbose=False):\n",
    "        current_context = [self.voc.vocabulary[PLACEHOLDER]] * (self.context_length - 1)\n",
    "        current_context.append(self.voc.vocabulary[START_TOKEN])\n",
    "        if require_sparse_label:\n",
    "            current_context = Utils.sparsify(current_context, self.output_size)\n",
    "\n",
    "        predictions = START_TOKEN\n",
    "        out_probas = []\n",
    "\n",
    "        for i in range(0, sequence_length):\n",
    "            if verbose:\n",
    "                print('predicting {}/{}...'.format(i, sequence_length))\n",
    "\n",
    "            probas = model.predict(input_img, np.array([current_context]))\n",
    "            prediction = np.argmax(probas)\n",
    "            out_probas.append(probas)\n",
    "\n",
    "            new_context = []\n",
    "            for j in range(1, self.context_length):\n",
    "                new_context.append(current_context[j])\n",
    "\n",
    "            if require_sparse_label:\n",
    "                sparse_label = np.zeros(self.output_size)\n",
    "                sparse_label[prediction] = 1\n",
    "                new_context.append(sparse_label)\n",
    "            else:\n",
    "                new_context.append(prediction)\n",
    "\n",
    "            current_context = new_context\n",
    "\n",
    "            predictions += self.voc.token_lookup[prediction]\n",
    "\n",
    "            if self.voc.token_lookup[prediction] == END_TOKEN:\n",
    "                break\n",
    "\n",
    "        return predictions, out_probas\n",
    "\n",
    "\n",
    "class Vocabulary:\n",
    "    def __init__(self):\n",
    "        self.binary_vocabulary = {}\n",
    "        self.vocabulary = {}\n",
    "        self.token_lookup = {}\n",
    "        self.size = 0\n",
    "\n",
    "        self.append(START_TOKEN)\n",
    "        self.append(END_TOKEN)\n",
    "        self.append(PLACEHOLDER)\n",
    "\n",
    "    def append(self, token):\n",
    "        if token not in self.vocabulary:\n",
    "            self.vocabulary[token] = self.size\n",
    "            self.token_lookup[self.size] = token\n",
    "            self.size += 1\n",
    "\n",
    "    def create_binary_representation(self):\n",
    "        if sys.version_info >= (3,):\n",
    "            items = self.vocabulary.items()\n",
    "        else:\n",
    "            items = self.vocabulary.iteritems()\n",
    "        for key, value in items:\n",
    "            binary = np.zeros(self.size)\n",
    "            binary[value] = 1\n",
    "            self.binary_vocabulary[key] = binary\n",
    "\n",
    "    def get_serialized_binary_representation(self):\n",
    "        if len(self.binary_vocabulary) == 0:\n",
    "            self.create_binary_representation()\n",
    "\n",
    "        string = ''\n",
    "        if sys.version_info >= (3,):\n",
    "            items = self.binary_vocabulary.items()\n",
    "        else:\n",
    "            items = self.binary_vocabulary.iteritems()\n",
    "        for key, value in items:\n",
    "            array_as_string = np.array2string(value, separator=',', max_line_width=self.size * self.size)\n",
    "            string += '{}{}{}\\n'.format(key, SEPARATOR, array_as_string[1:len(array_as_string) - 1])\n",
    "        return string\n",
    "\n",
    "    def save(self, path):\n",
    "        output_file_name = '{}/words.vocab'.format(path)\n",
    "        output_file = open(output_file_name, 'w')\n",
    "        output_file.write(self.get_serialized_binary_representation())\n",
    "        output_file.close()\n",
    "\n",
    "    def retrieve(self, path):\n",
    "        input_file = open('{}/words.vocab'.format(path), 'r')\n",
    "        buffer = ''\n",
    "        for line in input_file:\n",
    "            try:\n",
    "                separator_position = len(buffer) + line.index(SEPARATOR)\n",
    "                buffer += line\n",
    "                key = buffer[:separator_position]\n",
    "                value = buffer[separator_position + len(SEPARATOR):]\n",
    "                value = np.fromstring(value, sep=',')\n",
    "\n",
    "                self.binary_vocabulary[key] = value\n",
    "                self.vocabulary[key] = np.where(value == 1)[0][0]\n",
    "                self.token_lookup[np.where(value == 1)[0][0]] = key\n",
    "\n",
    "                buffer = ''\n",
    "            except ValueError:\n",
    "                buffer += line\n",
    "        input_file.close()\n",
    "        self.size = len(self.vocabulary)\n",
    "\n",
    "class Generator:\n",
    "    @staticmethod\n",
    "    def data_generator(voc, gui_paths, img_paths, batch_size, generate_binary_sequences=False, verbose=False, loop_only_one=False):\n",
    "        assert len(gui_paths) == len(img_paths)\n",
    "        voc.create_binary_representation()\n",
    "\n",
    "        while 1:\n",
    "            batch_input_images = []\n",
    "            batch_partial_sequences = []\n",
    "            batch_next_words = []\n",
    "            sample_in_batch_counter = 0\n",
    "\n",
    "            for i in range(0, len(gui_paths)):\n",
    "                if img_paths[i].find('.png') != -1:\n",
    "                    img = Utils.get_preprocessed_img(img_paths[i], IMAGE_SIZE)\n",
    "                else:\n",
    "                    img = np.load(img_paths[i])['features']\n",
    "                gui = open(gui_paths[i], 'r')\n",
    "\n",
    "                token_sequence = [START_TOKEN]\n",
    "                for line in gui:\n",
    "                    line = line.replace(',', ' ,').replace('\\n', ' \\n')\n",
    "                    tokens = line.split(' ')\n",
    "                    for token in tokens:\n",
    "                        voc.append(token)\n",
    "                        token_sequence.append(token)\n",
    "                token_sequence.append(END_TOKEN)\n",
    "\n",
    "                suffix = [PLACEHOLDER] * CONTEXT_LENGTH\n",
    "\n",
    "                a = np.concatenate([suffix, token_sequence])\n",
    "                for j in range(0, len(a) - CONTEXT_LENGTH):\n",
    "                    context = a[j:j + CONTEXT_LENGTH]\n",
    "                    label = a[j + CONTEXT_LENGTH]\n",
    "\n",
    "                    batch_input_images.append(img)\n",
    "                    batch_partial_sequences.append(context)\n",
    "                    batch_next_words.append(label)\n",
    "                    sample_in_batch_counter += 1\n",
    "\n",
    "                    if sample_in_batch_counter == batch_size or (loop_only_one and i == len(gui_paths) - 1):\n",
    "                        if verbose:\n",
    "                            print('Generating sparse vectors...')\n",
    "                        batch_next_words = Dataset.sparsify_labels(batch_next_words, voc)\n",
    "                        if generate_binary_sequences:\n",
    "                            batch_partial_sequences = Dataset.binarize(batch_partial_sequences, voc)\n",
    "                        else:\n",
    "                            batch_partial_sequences = Dataset.indexify(batch_partial_sequences, voc)\n",
    "\n",
    "                        if verbose:\n",
    "                            print('Convert arrays...')\n",
    "                        batch_input_images = np.array(batch_input_images)\n",
    "                        batch_partial_sequences = np.array(batch_partial_sequences)\n",
    "                        batch_next_words = np.array(batch_next_words)\n",
    "\n",
    "                        if verbose:\n",
    "                            print('Yield batch')\n",
    "                        yield ([batch_input_images, batch_partial_sequences], batch_next_words)\n",
    "\n",
    "                        batch_input_images = []\n",
    "                        batch_partial_sequences = []\n",
    "                        batch_next_words = []\n",
    "                        sample_in_batch_counter = 0\n",
    "                        \n",
    "class Dataset:\n",
    "    def __init__(self):\n",
    "        self.input_shape = None\n",
    "        self.output_size = None\n",
    "\n",
    "        self.ids = []\n",
    "        self.input_images = []\n",
    "        self.partial_sequences = []\n",
    "        self.next_words = []\n",
    "\n",
    "        self.voc = Vocabulary()\n",
    "        self.size = 0\n",
    "\n",
<<<<<<< HEAD
=======
    "        self.dataset_name = ''\n",
    "\n",
>>>>>>> main
    "    @staticmethod\n",
    "    def load_paths_only(path):\n",
    "        print('Parsing data...')\n",
    "        gui_paths = []\n",
    "        img_paths = []\n",
    "        for f in os.listdir(path):\n",
    "            if f.find('.gui') != -1:\n",
    "                path_gui = join(path, f)\n",
    "                gui_paths.append(path_gui)\n",
    "                file_name = f[:f.find('.gui')]\n",
    "\n",
    "                if os.path.isfile(join(path, file_name + '.png')):\n",
<<<<<<< HEAD
    "                    path_img = format(path, file_name + '.png')\n",
=======
    "                    path_img = join(path, file_name + '.png')\n",
>>>>>>> main
    "                    img_paths.append(path_img)\n",
    "                elif os.path.isfile(join(path, file_name + '.npz')):\n",
    "                    path_img = join(path, file_name + '.npz')\n",
    "                    img_paths.append(path_img)\n",
    "\n",
    "        assert len(gui_paths) == len(img_paths)\n",
    "        return gui_paths, img_paths\n",
    "\n",
    "    def load(self, path, generate_binary_sequences=False):\n",
<<<<<<< HEAD
    "        print('Loading data...')\n",
=======
    "        print('Loading {} data...'.format(self.dataset_name))\n",
>>>>>>> main
    "        for f in os.listdir(path):\n",
    "            if f.find('.gui') != -1:\n",
    "                gui = open(join(path, f), 'r')\n",
    "                file_name = Path(f).stem\n",
    "                if os.path.isfile(join(path, file_name + '.png')):\n",
    "                    img = Utils.get_preprocessed_img(join(path, file_name + '.png'), IMAGE_SIZE)\n",
    "                    self.append(file_name, gui, img)\n",
    "                elif os.path.isfile(join(path, file_name + '.npz')):\n",
    "                    img = np.load(join(path, file_name + '.npz'))['features']\n",
    "                    self.append(file_name, gui, img)\n",
    "\n",
    "        print('Generating sparse vectors...')\n",
    "        self.voc.create_binary_representation()\n",
    "        self.next_words = self.sparsify_labels(self.next_words, self.voc)\n",
    "        if generate_binary_sequences:\n",
    "            self.partial_sequences = self.binarize(self.partial_sequences, self.voc)\n",
    "        else:\n",
    "            self.partial_sequences = self.indexify(self.partial_sequences, self.voc)\n",
    "\n",
    "        self.size = len(self.ids)\n",
    "        assert self.size == len(self.input_images) == len(self.partial_sequences) == len(self.next_words)\n",
    "        assert self.voc.size == len(self.voc.vocabulary)\n",
    "\n",
    "        print('Dataset size: {}'.format(self.size))\n",
    "        print('Vocabulary size: {}'.format(self.voc.size))\n",
    "\n",
    "        self.input_shape = self.input_images[0].shape\n",
    "        self.output_size = self.voc.size\n",
    "\n",
    "        print('Input shape: {}'.format(self.input_shape))\n",
    "        print('Output size: {}'.format(self.output_size))\n",
    "\n",
    "    def convert_arrays(self):\n",
    "        print('Convert arrays...')\n",
    "        self.input_images = np.array(self.input_images)\n",
    "        self.partial_sequences = np.array(self.partial_sequences)\n",
    "        self.next_words = np.array(self.next_words)\n",
    "\n",
    "    def append(self, sample_id, gui, img, to_show=False):\n",
    "        if to_show:\n",
    "            pic = img * 255\n",
    "            pic = np.array(pic, dtype=np.uint8)\n",
    "            Utils.show(pic)\n",
    "\n",
    "        token_sequence = [START_TOKEN]\n",
    "        for line in gui:\n",
    "            line = line.replace(',', ' ,').replace('\\n', ' \\n')\n",
    "            tokens = line.split(' ')\n",
    "            for token in tokens:\n",
    "                self.voc.append(token)\n",
    "                token_sequence.append(token)\n",
    "        token_sequence.append(END_TOKEN)\n",
    "\n",
    "        suffix = [PLACEHOLDER] * CONTEXT_LENGTH\n",
    "\n",
    "        a = np.concatenate([suffix, token_sequence])\n",
    "        for j in range(0, len(a) - CONTEXT_LENGTH):\n",
    "            context = a[j:j + CONTEXT_LENGTH]\n",
    "            label = a[j + CONTEXT_LENGTH]\n",
    "\n",
    "            self.ids.append(sample_id)\n",
    "            self.input_images.append(img)\n",
    "            self.partial_sequences.append(context)\n",
    "            self.next_words.append(label)\n",
    "\n",
    "    @staticmethod\n",
    "    def indexify(partial_sequences, voc):\n",
    "        temp = []\n",
    "        for sequence in partial_sequences:\n",
    "            sparse_vectors_sequence = []\n",
    "            for token in sequence:\n",
    "                sparse_vectors_sequence.append(voc.vocabulary[token])\n",
    "            temp.append(np.array(sparse_vectors_sequence))\n",
    "\n",
    "        return temp\n",
    "\n",
    "    @staticmethod\n",
    "    def binarize(partial_sequences, voc):\n",
    "        temp = []\n",
    "        for sequence in partial_sequences:\n",
    "            sparse_vectors_sequence = []\n",
    "            for token in sequence:\n",
    "                sparse_vectors_sequence.append(voc.binary_vocabulary[token])\n",
    "            temp.append(np.array(sparse_vectors_sequence))\n",
    "\n",
    "        return temp\n",
    "\n",
    "    @staticmethod\n",
    "    def sparsify_labels(next_words, voc):\n",
    "        temp = []\n",
    "        for label in next_words:\n",
    "            temp.append(voc.binary_vocabulary[label])\n",
    "\n",
    "        return temp\n",
    "\n",
    "    def save_metadata(self, path):\n",
<<<<<<< HEAD
    "        np.save(join(path, 'meta_dataset'), np.array([self.input_shape, self.output_size, self.size], dtype=object), allow_pickle=True)\n"
=======
    "        np.save(join(path, 'meta_dataset'), np.array([self.input_shape, self.output_size, self.size], dtype=object), allow_pickle=True)"
>>>>>>> main
   ]
  },
  {
   "cell_type": "markdown",
   "metadata": {},
   "source": [
    "### Transform training set into numpy arrays"
   ]
  },
  {
   "cell_type": "code",
<<<<<<< HEAD
   "execution_count": 8,
=======
   "execution_count": null,
>>>>>>> main
   "metadata": {},
   "outputs": [],
   "source": [
    "#define source and destination folders\n",
<<<<<<< HEAD
    "source = join('dataset', 'training_set')\n",
    "destination = join('dataset', 'training_features')\n",
=======
    "source = join(SOURCE, TRAINING_SET_NAME)\n",
    "destination = join(SOURCE, TRAINING_FEATURES)\n",
>>>>>>> main
    "\n",
    "# create the training_features directory if it does not exist\n",
    "if not os.path.exists(destination):\n",
    "    os.makedirs(destination)\n",
    "\n",
    "# transform images in training dataset (i.e. normalized pixel values and resized pictures) to numpy arrays (smaller files, useful if uploading the set to train a model in the cloud)\n",
    "for f in os.listdir(source):\n",
    "    if f.find('.png') != -1:\n",
    "        img = Utils.get_preprocessed_img(join(source, f), IMAGE_SIZE)\n",
    "        file_name = f[:f.find('.png')]\n",
    "\n",
    "        np.savez_compressed(join(destination, file_name), features=img)\n",
    "        retrieve = np.load(join(destination, file_name + '.npz'))['features']\n",
    "        \n",
    "        assert np.array_equal(img, retrieve)\n",
    "        \n",
<<<<<<< HEAD
    "        shutil.copyfile(join(source, file_name + '.gui'), join(destination, file_name + '.gui'))\n"
   ]
  },
  {
   "cell_type": "code",
   "execution_count": 9,
   "metadata": {},
   "outputs": [],
   "source": [
=======
    "        shutil.copyfile(join(source, file_name + '.gui'), join(destination, file_name + '.gui'))"
   ]
  },
  {
   "source": [
    "### Transform evaluation set into numpy arrays"
   ],
   "cell_type": "markdown",
   "metadata": {}
  },
  {
   "cell_type": "code",
   "execution_count": null,
   "metadata": {},
   "outputs": [],
   "source": [
    "#define source and destination folders\n",
    "source = join(SOURCE, EVALUATION_SET_NAME)\n",
    "destination = join(SOURCE, EVAL_FEATURES)\n",
    "\n",
    "# create the eval_features directory if it does not exist\n",
    "if not os.path.exists(destination):\n",
    "    os.makedirs(destination)\n",
    "\n",
    "# transform images in eval dataset (i.e. normalized pixel values and resized pictures) to numpy arrays (smaller files, useful if uploading the set to train a model in the cloud)\n",
    "for f in os.listdir(source):\n",
    "    if f.find('.png') != -1:\n",
    "        img = Utils.get_preprocessed_img(join(source, f), IMAGE_SIZE)\n",
    "        file_name = f[:f.find('.png')]\n",
    "\n",
    "        np.savez_compressed(join(destination, file_name), features=img)\n",
    "        retrieve = np.load(join(destination, file_name + '.npz'))['features']\n",
    "        \n",
    "        assert np.array_equal(img, retrieve)\n",
    "        \n",
    "        shutil.copyfile(join(source, file_name + '.gui'), join(destination, file_name + '.gui'))"
   ]
  },
  {
   "cell_type": "code",
   "execution_count": null,
   "metadata": {},
   "outputs": [],
   "source": [
    "# make folder to store runtime files\n",
>>>>>>> main
    "if not os.path.exists('bin'):\n",
    "    os.mkdir('bin')"
   ]
  },
  {
   "cell_type": "markdown",
   "metadata": {},
   "source": [
    "### Declare magicode class"
   ]
  },
  {
   "cell_type": "code",
<<<<<<< HEAD
   "execution_count": 10,
=======
   "execution_count": null,
>>>>>>> main
   "metadata": {},
   "outputs": [],
   "source": [
    "from tensorflow.keras.layers import Input, Dense, Dropout, \\\n",
    "                         RepeatVector, LSTM, concatenate, \\\n",
    "                         Conv2D, MaxPooling2D, Flatten\n",
    "from tensorflow.keras.models import Sequential, Model, model_from_json\n",
    "from tensorflow.keras.optimizers import RMSprop\n",
    "\n",
    "from tensorflow.keras import *\n",
<<<<<<< HEAD
=======
    "from tensorflow.keras.callbacks import EarlyStopping, TensorBoard\n",
    "\n",
>>>>>>> main
    "\n",
    "class magicode:\n",
    "    def __init__(self, input_shape, output_size, output_path):\n",
    "        self.model = None\n",
    "        self.name = 'magicode'\n",
    "        self.input_shape = input_shape\n",
    "        self.output_size = output_size\n",
    "        self.output_path = output_path\n",
    "\n",
    "        image_model = Sequential()\n",
    "        image_model.add(Conv2D(32, (3, 3), padding='valid', activation='relu', input_shape=input_shape))\n",
    "        image_model.add(Conv2D(32, (3, 3), padding='valid', activation='relu'))\n",
    "        image_model.add(MaxPooling2D(pool_size=(2, 2)))\n",
    "        image_model.add(Dropout(0.25))\n",
    "\n",
    "        image_model.add(Conv2D(64, (3, 3), padding='valid', activation='relu'))\n",
    "        image_model.add(Conv2D(64, (3, 3), padding='valid', activation='relu'))\n",
    "        image_model.add(MaxPooling2D(pool_size=(2, 2)))\n",
    "        image_model.add(Dropout(0.25))\n",
    "\n",
    "        image_model.add(Conv2D(128, (3, 3), padding='valid', activation='relu'))\n",
    "        image_model.add(Conv2D(128, (3, 3), padding='valid', activation='relu'))\n",
    "        image_model.add(MaxPooling2D(pool_size=(2, 2)))\n",
    "        image_model.add(Dropout(0.25))\n",
    "\n",
    "        image_model.add(Flatten())\n",
    "        image_model.add(Dense(1024, activation='relu'))\n",
    "        image_model.add(Dropout(0.3))\n",
    "        image_model.add(Dense(1024, activation='relu'))\n",
    "        image_model.add(Dropout(0.3))\n",
    "\n",
    "        image_model.add(RepeatVector(CONTEXT_LENGTH))\n",
    "\n",
    "        visual_input = Input(shape=input_shape)\n",
    "        encoded_image = image_model(visual_input)\n",
    "\n",
    "        language_model = Sequential()\n",
    "        language_model.add(LSTM(128, return_sequences=True, input_shape=(CONTEXT_LENGTH, output_size)))\n",
    "        language_model.add(LSTM(128, return_sequences=True))\n",
    "\n",
    "        textual_input = Input(shape=(CONTEXT_LENGTH, output_size))\n",
    "        encoded_text = language_model(textual_input)\n",
    "\n",
    "        decoder = concatenate([encoded_image, encoded_text])\n",
    "\n",
    "        decoder = LSTM(512, return_sequences=True)(decoder)\n",
    "        decoder = LSTM(512, return_sequences=False)(decoder)\n",
    "        decoder = Dense(output_size, activation='softmax')(decoder)\n",
    "\n",
    "        self.model = Model(inputs=[visual_input, textual_input], outputs=decoder)\n",
    "\n",
<<<<<<< HEAD
    "        optimizer = RMSprop(lr=0.0001, clipvalue=1.0)\n",
    "        self.model.compile(loss='categorical_crossentropy', optimizer=optimizer)\n",
    "\n",
    "    def fit_generator(self, generator, steps_per_epoch):\n",
    "        self.model.fit(generator, steps_per_epoch=steps_per_epoch, epochs=EPOCHS, verbose=1)\n",
=======
    "        optimizer = RMSprop(lr=LEARNING_RATE, clipvalue=CLIPVALUE)\n",
    "        self.model.compile(loss='categorical_crossentropy', optimizer=optimizer, metrics=['accuracy'])\n",
    "\n",
    "    def fit_generator(self, generator, eval_generator, steps_per_epoch, validation_steps):\n",
    "        # TensorBoard used to produce graphs - callback run every epoch\n",
    "        tensorboard = TensorBoard(log_dir=LOG_DIR, histogram_freq=1)\n",
    "        # monitors the validation_loss value and when it stops decreasing the model will run for PATIENCE more times\n",
    "        # if the value doesn't decrease then restore the weights from the run with the smallest val_loss value\n",
    "        early_stopping = EarlyStopping(monitor='val_loss', mode = 'min', patience=PATIENCE, restore_best_weights=True, verbose = 1)\n",
    "        self.model.fit(generator, steps_per_epoch=steps_per_epoch, epochs=EPOCHS, validation_data=eval_generator, validation_steps=validation_steps, verbose=1, callbacks=[tensorboard, early_stopping])\n",
>>>>>>> main
    "        self.save()\n",
    "\n",
    "    def predict(self, image, partial_caption):\n",
    "        return self.model.predict([image, partial_caption], verbose=0)[0]\n",
    "\n",
    "    def save(self):\n",
    "        model_json = self.model.to_json()\n",
<<<<<<< HEAD
    "        with open(format(self.output_path, self.name, '.json'), \"w\") as json_file:\n",
    "            json_file.write(model_json)\n",
    "        self.model.save_weights(join(self.output_path, self.name, '.h5'))\n",
    "\n",
    "    def load(self, name=\"\"):\n",
    "        output_name = self.name if name == \"\" else name\n",
    "        with open(join(self.output_path, output_name, '.json'), \"r\") as json_file:\n",
    "            loaded_model_json = json_file.read()\n",
    "        self.model = model_from_json(loaded_model_json)\n",
    "        self.model.load_weights(join(self.output_path, output_name, '.h5'))"
=======
    "        with open(join(self.output_path, self.name + '.json'), \"w\") as json_file:\n",
    "            json_file.write(model_json)\n",
    "        self.model.save_weights(join(self.output_path, self.name + '.h5'))\n",
    "\n",
    "    def load(self, name=\"\"):\n",
    "        output_name = self.name if name == \"\" else name\n",
    "        with open(join(self.output_path, output_name + '.json'), \"r\") as json_file:\n",
    "            loaded_model_json = json_file.read()\n",
    "        self.model = model_from_json(loaded_model_json)\n",
    "        self.model.load_weights(join(self.output_path, output_name + '.h5'))"
>>>>>>> main
   ]
  },
  {
   "cell_type": "markdown",
   "metadata": {},
   "source": [
    "### Train the model using a generator (to avoid having to fit all the data in memory)"
   ]
  },
  {
   "cell_type": "code",
<<<<<<< HEAD
   "execution_count": 32,
   "metadata": {},
   "outputs": [
    {
     "name": "stdout",
     "output_type": "stream",
     "text": [
      "Loading data...\n",
      "Generating sparse vectors...\n",
      "Dataset size: 5250\n",
      "Vocabulary size: 26\n",
      "Input shape: (256, 256, 3)\n",
      "Output size: 26\n",
      "Parsing data...\n",
      "Epoch 1/10\n",
      " 2/82 [..............................] - ETA: 12:47 - loss: 3.1045"
     ]
    },
    {
     "ename": "KeyboardInterrupt",
     "evalue": "",
     "output_type": "error",
     "traceback": [
      "\u001b[0;31m---------------------------------------------------------------------------\u001b[0m",
      "\u001b[0;31mKeyboardInterrupt\u001b[0m                         Traceback (most recent call last)",
      "\u001b[0;32m<ipython-input-32-16c4bbf90bd1>\u001b[0m in \u001b[0;36m<module>\u001b[0;34m\u001b[0m\n\u001b[1;32m     25\u001b[0m \u001b[0mmodel\u001b[0m \u001b[0;34m=\u001b[0m \u001b[0mmagicode\u001b[0m\u001b[0;34m(\u001b[0m\u001b[0minput_shape\u001b[0m\u001b[0;34m,\u001b[0m \u001b[0moutput_size\u001b[0m\u001b[0;34m,\u001b[0m \u001b[0moutput_path\u001b[0m\u001b[0;34m)\u001b[0m\u001b[0;34m\u001b[0m\u001b[0;34m\u001b[0m\u001b[0m\n\u001b[1;32m     26\u001b[0m \u001b[0;34m\u001b[0m\u001b[0m\n\u001b[0;32m---> 27\u001b[0;31m \u001b[0mmodel\u001b[0m\u001b[0;34m.\u001b[0m\u001b[0mfit_generator\u001b[0m\u001b[0;34m(\u001b[0m\u001b[0mgenerator\u001b[0m\u001b[0;34m,\u001b[0m \u001b[0msteps_per_epoch\u001b[0m\u001b[0;34m=\u001b[0m\u001b[0msteps_per_epoch\u001b[0m\u001b[0;34m)\u001b[0m\u001b[0;34m\u001b[0m\u001b[0;34m\u001b[0m\u001b[0m\n\u001b[0m",
      "\u001b[0;32m<ipython-input-10-56506460e518>\u001b[0m in \u001b[0;36mfit_generator\u001b[0;34m(self, generator, steps_per_epoch)\u001b[0m\n\u001b[1;32m     61\u001b[0m \u001b[0;34m\u001b[0m\u001b[0m\n\u001b[1;32m     62\u001b[0m     \u001b[0;32mdef\u001b[0m \u001b[0mfit_generator\u001b[0m\u001b[0;34m(\u001b[0m\u001b[0mself\u001b[0m\u001b[0;34m,\u001b[0m \u001b[0mgenerator\u001b[0m\u001b[0;34m,\u001b[0m \u001b[0msteps_per_epoch\u001b[0m\u001b[0;34m)\u001b[0m\u001b[0;34m:\u001b[0m\u001b[0;34m\u001b[0m\u001b[0;34m\u001b[0m\u001b[0m\n\u001b[0;32m---> 63\u001b[0;31m         \u001b[0mself\u001b[0m\u001b[0;34m.\u001b[0m\u001b[0mmodel\u001b[0m\u001b[0;34m.\u001b[0m\u001b[0mfit\u001b[0m\u001b[0;34m(\u001b[0m\u001b[0mgenerator\u001b[0m\u001b[0;34m,\u001b[0m \u001b[0msteps_per_epoch\u001b[0m\u001b[0;34m=\u001b[0m\u001b[0msteps_per_epoch\u001b[0m\u001b[0;34m,\u001b[0m \u001b[0mepochs\u001b[0m\u001b[0;34m=\u001b[0m\u001b[0mEPOCHS\u001b[0m\u001b[0;34m,\u001b[0m \u001b[0mverbose\u001b[0m\u001b[0;34m=\u001b[0m\u001b[0;36m1\u001b[0m\u001b[0;34m)\u001b[0m\u001b[0;34m\u001b[0m\u001b[0;34m\u001b[0m\u001b[0m\n\u001b[0m\u001b[1;32m     64\u001b[0m         \u001b[0mself\u001b[0m\u001b[0;34m.\u001b[0m\u001b[0msave\u001b[0m\u001b[0;34m(\u001b[0m\u001b[0;34m)\u001b[0m\u001b[0;34m\u001b[0m\u001b[0;34m\u001b[0m\u001b[0m\n\u001b[1;32m     65\u001b[0m \u001b[0;34m\u001b[0m\u001b[0m\n",
      "\u001b[0;32m~/projects/python-stuff/jupyterenvironment/lib/python3.8/site-packages/tensorflow/python/keras/engine/training.py\u001b[0m in \u001b[0;36mfit\u001b[0;34m(self, x, y, batch_size, epochs, verbose, callbacks, validation_split, validation_data, shuffle, class_weight, sample_weight, initial_epoch, steps_per_epoch, validation_steps, validation_batch_size, validation_freq, max_queue_size, workers, use_multiprocessing)\u001b[0m\n\u001b[1;32m   1098\u001b[0m                 _r=1):\n\u001b[1;32m   1099\u001b[0m               \u001b[0mcallbacks\u001b[0m\u001b[0;34m.\u001b[0m\u001b[0mon_train_batch_begin\u001b[0m\u001b[0;34m(\u001b[0m\u001b[0mstep\u001b[0m\u001b[0;34m)\u001b[0m\u001b[0;34m\u001b[0m\u001b[0;34m\u001b[0m\u001b[0m\n\u001b[0;32m-> 1100\u001b[0;31m               \u001b[0mtmp_logs\u001b[0m \u001b[0;34m=\u001b[0m \u001b[0mself\u001b[0m\u001b[0;34m.\u001b[0m\u001b[0mtrain_function\u001b[0m\u001b[0;34m(\u001b[0m\u001b[0miterator\u001b[0m\u001b[0;34m)\u001b[0m\u001b[0;34m\u001b[0m\u001b[0;34m\u001b[0m\u001b[0m\n\u001b[0m\u001b[1;32m   1101\u001b[0m               \u001b[0;32mif\u001b[0m \u001b[0mdata_handler\u001b[0m\u001b[0;34m.\u001b[0m\u001b[0mshould_sync\u001b[0m\u001b[0;34m:\u001b[0m\u001b[0;34m\u001b[0m\u001b[0;34m\u001b[0m\u001b[0m\n\u001b[1;32m   1102\u001b[0m                 \u001b[0mcontext\u001b[0m\u001b[0;34m.\u001b[0m\u001b[0masync_wait\u001b[0m\u001b[0;34m(\u001b[0m\u001b[0;34m)\u001b[0m\u001b[0;34m\u001b[0m\u001b[0;34m\u001b[0m\u001b[0m\n",
      "\u001b[0;32m~/projects/python-stuff/jupyterenvironment/lib/python3.8/site-packages/tensorflow/python/eager/def_function.py\u001b[0m in \u001b[0;36m__call__\u001b[0;34m(self, *args, **kwds)\u001b[0m\n\u001b[1;32m    826\u001b[0m     \u001b[0mtracing_count\u001b[0m \u001b[0;34m=\u001b[0m \u001b[0mself\u001b[0m\u001b[0;34m.\u001b[0m\u001b[0mexperimental_get_tracing_count\u001b[0m\u001b[0;34m(\u001b[0m\u001b[0;34m)\u001b[0m\u001b[0;34m\u001b[0m\u001b[0;34m\u001b[0m\u001b[0m\n\u001b[1;32m    827\u001b[0m     \u001b[0;32mwith\u001b[0m \u001b[0mtrace\u001b[0m\u001b[0;34m.\u001b[0m\u001b[0mTrace\u001b[0m\u001b[0;34m(\u001b[0m\u001b[0mself\u001b[0m\u001b[0;34m.\u001b[0m\u001b[0m_name\u001b[0m\u001b[0;34m)\u001b[0m \u001b[0;32mas\u001b[0m \u001b[0mtm\u001b[0m\u001b[0;34m:\u001b[0m\u001b[0;34m\u001b[0m\u001b[0;34m\u001b[0m\u001b[0m\n\u001b[0;32m--> 828\u001b[0;31m       \u001b[0mresult\u001b[0m \u001b[0;34m=\u001b[0m \u001b[0mself\u001b[0m\u001b[0;34m.\u001b[0m\u001b[0m_call\u001b[0m\u001b[0;34m(\u001b[0m\u001b[0;34m*\u001b[0m\u001b[0margs\u001b[0m\u001b[0;34m,\u001b[0m \u001b[0;34m**\u001b[0m\u001b[0mkwds\u001b[0m\u001b[0;34m)\u001b[0m\u001b[0;34m\u001b[0m\u001b[0;34m\u001b[0m\u001b[0m\n\u001b[0m\u001b[1;32m    829\u001b[0m       \u001b[0mcompiler\u001b[0m \u001b[0;34m=\u001b[0m \u001b[0;34m\"xla\"\u001b[0m \u001b[0;32mif\u001b[0m \u001b[0mself\u001b[0m\u001b[0;34m.\u001b[0m\u001b[0m_experimental_compile\u001b[0m \u001b[0;32melse\u001b[0m \u001b[0;34m\"nonXla\"\u001b[0m\u001b[0;34m\u001b[0m\u001b[0;34m\u001b[0m\u001b[0m\n\u001b[1;32m    830\u001b[0m       \u001b[0mnew_tracing_count\u001b[0m \u001b[0;34m=\u001b[0m \u001b[0mself\u001b[0m\u001b[0;34m.\u001b[0m\u001b[0mexperimental_get_tracing_count\u001b[0m\u001b[0;34m(\u001b[0m\u001b[0;34m)\u001b[0m\u001b[0;34m\u001b[0m\u001b[0;34m\u001b[0m\u001b[0m\n",
      "\u001b[0;32m~/projects/python-stuff/jupyterenvironment/lib/python3.8/site-packages/tensorflow/python/eager/def_function.py\u001b[0m in \u001b[0;36m_call\u001b[0;34m(self, *args, **kwds)\u001b[0m\n\u001b[1;32m    853\u001b[0m       \u001b[0;31m# In this case we have created variables on the first call, so we run the\u001b[0m\u001b[0;34m\u001b[0m\u001b[0;34m\u001b[0m\u001b[0;34m\u001b[0m\u001b[0m\n\u001b[1;32m    854\u001b[0m       \u001b[0;31m# defunned version which is guaranteed to never create variables.\u001b[0m\u001b[0;34m\u001b[0m\u001b[0;34m\u001b[0m\u001b[0;34m\u001b[0m\u001b[0m\n\u001b[0;32m--> 855\u001b[0;31m       \u001b[0;32mreturn\u001b[0m \u001b[0mself\u001b[0m\u001b[0;34m.\u001b[0m\u001b[0m_stateless_fn\u001b[0m\u001b[0;34m(\u001b[0m\u001b[0;34m*\u001b[0m\u001b[0margs\u001b[0m\u001b[0;34m,\u001b[0m \u001b[0;34m**\u001b[0m\u001b[0mkwds\u001b[0m\u001b[0;34m)\u001b[0m  \u001b[0;31m# pylint: disable=not-callable\u001b[0m\u001b[0;34m\u001b[0m\u001b[0;34m\u001b[0m\u001b[0m\n\u001b[0m\u001b[1;32m    856\u001b[0m     \u001b[0;32melif\u001b[0m \u001b[0mself\u001b[0m\u001b[0;34m.\u001b[0m\u001b[0m_stateful_fn\u001b[0m \u001b[0;32mis\u001b[0m \u001b[0;32mnot\u001b[0m \u001b[0;32mNone\u001b[0m\u001b[0;34m:\u001b[0m\u001b[0;34m\u001b[0m\u001b[0;34m\u001b[0m\u001b[0m\n\u001b[1;32m    857\u001b[0m       \u001b[0;31m# Release the lock early so that multiple threads can perform the call\u001b[0m\u001b[0;34m\u001b[0m\u001b[0;34m\u001b[0m\u001b[0;34m\u001b[0m\u001b[0m\n",
      "\u001b[0;32m~/projects/python-stuff/jupyterenvironment/lib/python3.8/site-packages/tensorflow/python/eager/function.py\u001b[0m in \u001b[0;36m__call__\u001b[0;34m(self, *args, **kwargs)\u001b[0m\n\u001b[1;32m   2940\u001b[0m       (graph_function,\n\u001b[1;32m   2941\u001b[0m        filtered_flat_args) = self._maybe_define_function(args, kwargs)\n\u001b[0;32m-> 2942\u001b[0;31m     return graph_function._call_flat(\n\u001b[0m\u001b[1;32m   2943\u001b[0m         filtered_flat_args, captured_inputs=graph_function.captured_inputs)  # pylint: disable=protected-access\n\u001b[1;32m   2944\u001b[0m \u001b[0;34m\u001b[0m\u001b[0m\n",
      "\u001b[0;32m~/projects/python-stuff/jupyterenvironment/lib/python3.8/site-packages/tensorflow/python/eager/function.py\u001b[0m in \u001b[0;36m_call_flat\u001b[0;34m(self, args, captured_inputs, cancellation_manager)\u001b[0m\n\u001b[1;32m   1916\u001b[0m         and executing_eagerly):\n\u001b[1;32m   1917\u001b[0m       \u001b[0;31m# No tape is watching; skip to running the function.\u001b[0m\u001b[0;34m\u001b[0m\u001b[0;34m\u001b[0m\u001b[0;34m\u001b[0m\u001b[0m\n\u001b[0;32m-> 1918\u001b[0;31m       return self._build_call_outputs(self._inference_function.call(\n\u001b[0m\u001b[1;32m   1919\u001b[0m           ctx, args, cancellation_manager=cancellation_manager))\n\u001b[1;32m   1920\u001b[0m     forward_backward = self._select_forward_and_backward_functions(\n",
      "\u001b[0;32m~/projects/python-stuff/jupyterenvironment/lib/python3.8/site-packages/tensorflow/python/eager/function.py\u001b[0m in \u001b[0;36mcall\u001b[0;34m(self, ctx, args, cancellation_manager)\u001b[0m\n\u001b[1;32m    553\u001b[0m       \u001b[0;32mwith\u001b[0m \u001b[0m_InterpolateFunctionError\u001b[0m\u001b[0;34m(\u001b[0m\u001b[0mself\u001b[0m\u001b[0;34m)\u001b[0m\u001b[0;34m:\u001b[0m\u001b[0;34m\u001b[0m\u001b[0;34m\u001b[0m\u001b[0m\n\u001b[1;32m    554\u001b[0m         \u001b[0;32mif\u001b[0m \u001b[0mcancellation_manager\u001b[0m \u001b[0;32mis\u001b[0m \u001b[0;32mNone\u001b[0m\u001b[0;34m:\u001b[0m\u001b[0;34m\u001b[0m\u001b[0;34m\u001b[0m\u001b[0m\n\u001b[0;32m--> 555\u001b[0;31m           outputs = execute.execute(\n\u001b[0m\u001b[1;32m    556\u001b[0m               \u001b[0mstr\u001b[0m\u001b[0;34m(\u001b[0m\u001b[0mself\u001b[0m\u001b[0;34m.\u001b[0m\u001b[0msignature\u001b[0m\u001b[0;34m.\u001b[0m\u001b[0mname\u001b[0m\u001b[0;34m)\u001b[0m\u001b[0;34m,\u001b[0m\u001b[0;34m\u001b[0m\u001b[0;34m\u001b[0m\u001b[0m\n\u001b[1;32m    557\u001b[0m               \u001b[0mnum_outputs\u001b[0m\u001b[0;34m=\u001b[0m\u001b[0mself\u001b[0m\u001b[0;34m.\u001b[0m\u001b[0m_num_outputs\u001b[0m\u001b[0;34m,\u001b[0m\u001b[0;34m\u001b[0m\u001b[0;34m\u001b[0m\u001b[0m\n",
      "\u001b[0;32m~/projects/python-stuff/jupyterenvironment/lib/python3.8/site-packages/tensorflow/python/eager/execute.py\u001b[0m in \u001b[0;36mquick_execute\u001b[0;34m(op_name, num_outputs, inputs, attrs, ctx, name)\u001b[0m\n\u001b[1;32m     57\u001b[0m   \u001b[0;32mtry\u001b[0m\u001b[0;34m:\u001b[0m\u001b[0;34m\u001b[0m\u001b[0;34m\u001b[0m\u001b[0m\n\u001b[1;32m     58\u001b[0m     \u001b[0mctx\u001b[0m\u001b[0;34m.\u001b[0m\u001b[0mensure_initialized\u001b[0m\u001b[0;34m(\u001b[0m\u001b[0;34m)\u001b[0m\u001b[0;34m\u001b[0m\u001b[0;34m\u001b[0m\u001b[0m\n\u001b[0;32m---> 59\u001b[0;31m     tensors = pywrap_tfe.TFE_Py_Execute(ctx._handle, device_name, op_name,\n\u001b[0m\u001b[1;32m     60\u001b[0m                                         inputs, attrs, num_outputs)\n\u001b[1;32m     61\u001b[0m   \u001b[0;32mexcept\u001b[0m \u001b[0mcore\u001b[0m\u001b[0;34m.\u001b[0m\u001b[0m_NotOkStatusException\u001b[0m \u001b[0;32mas\u001b[0m \u001b[0me\u001b[0m\u001b[0;34m:\u001b[0m\u001b[0;34m\u001b[0m\u001b[0;34m\u001b[0m\u001b[0m\n",
      "\u001b[0;31mKeyboardInterrupt\u001b[0m: "
     ]
    }
   ],
=======
   "execution_count": null,
   "metadata": {},
   "outputs": [],
>>>>>>> main
   "source": [
    "import tensorflow as tf\n",
    "\n",
    "np.random.seed(1234)\n",
    "\n",
<<<<<<< HEAD
    "training_features = join('dataset', 'training_features')\n",
    "output_path = 'bin'\n",
    "\n",
    "dataset = Dataset()\n",
=======
    "training_features = join(SOURCE, TRAINING_FEATURES)\n",
    "eval_features = join(SOURCE, EVAL_FEATURES)\n",
    "output_path = join('bin')\n",
    "\n",
    "dataset = Dataset()\n",
    "dataset.dataset_name = 'training'\n",
>>>>>>> main
    "dataset.load(training_features, generate_binary_sequences=True)\n",
    "dataset.save_metadata(output_path)\n",
    "dataset.voc.save(output_path)\n",
    "\n",
    "gui_paths, img_paths = Dataset.load_paths_only(training_features)\n",
    "\n",
    "input_shape = dataset.input_shape\n",
    "output_size = dataset.output_size\n",
    "steps_per_epoch = dataset.size / BATCH_SIZE\n",
    "voc = Vocabulary()\n",
    "voc.retrieve(output_path)\n",
    "\n",
    "generator = Generator.data_generator(voc, gui_paths, img_paths, batch_size=BATCH_SIZE, generate_binary_sequences=True)\n",
    "\n",
<<<<<<< HEAD
    "model = magicode(input_shape, output_size, output_path)\n",
    "\n",
    "model.fit_generator(generator, steps_per_epoch=steps_per_epoch)"
=======
    "eval_dataset = Dataset()\n",
    "eval_dataset.dataset_name = 'evaluation'\n",
    "eval_dataset.load(eval_features, generate_binary_sequences=True)\n",
    "eval_gui_paths, eval_img_paths = Dataset.load_paths_only(eval_features)\n",
    "validation_steps = eval_dataset.size / BATCH_SIZE\n",
    "\n",
    "eval_generator = Generator.data_generator(voc, eval_gui_paths, eval_img_paths, batch_size=BATCH_SIZE, generate_binary_sequences=True)\n",
    "\n",
    "model = magicode(input_shape, output_size, output_path)\n",
    "\n",
    "model.fit_generator(generator, eval_generator, steps_per_epoch=steps_per_epoch, validation_steps=validation_steps)"
   ]
  },
  {
   "cell_type": "code",
   "execution_count": null,
   "metadata": {},
   "outputs": [],
   "source": [
    "# Plot the model (Place after model = magicode... line in cell above)\n",
    "\n",
    "# THIS RETURNS ERROR: ('Failed to import pydot. You must `pip install pydot` and install graphviz (https://graphviz.gitlab.io/download/), ', 'for `pydotprint` to work.')\n",
    "\n",
    "# tf.keras.utils.plot_model(\n",
    "#     model,\n",
    "#     to_file='model.png',\n",
    "#     show_shapes=False,\n",
    "#     show_dtype=False,\n",
    "#     show_layer_names=True,\n",
    "#     rankdir='LR',\n",
    "#     expand_nested=False,\n",
    "#     dpi=96,\n",
    "# )"
   ]
  },
  {
   "cell_type": "markdown",
   "metadata": {},
   "source": [
    "### Start tensorboard to visualise the training results"
   ]
  },
  {
   "cell_type": "code",
   "execution_count": null,
   "metadata": {},
   "outputs": [],
   "source": [
    "%load_ext tensorboard\n",
    "%tensorboard --logdir {LOG_DIR}"
>>>>>>> main
   ]
  },
  {
   "cell_type": "markdown",
   "metadata": {},
   "source": [
    "### Create the directories for storing screenshots to \"decode\" and the resulting code"
   ]
  },
  {
   "cell_type": "code",
<<<<<<< HEAD
   "execution_count": 33,
=======
   "execution_count": null,
>>>>>>> main
   "metadata": {},
   "outputs": [],
   "source": [
    "# create directory to store images to be \"decoded\"\n",
<<<<<<< HEAD
    "if not os.path.exists('screenshots'):\n",
    "    os.mkdir('screenshots')\n",
    "# create directory to store code generated by \"decoding\" images in screenshots folder \n",
    "if not os.path.exists('code'):\n",
    "    os.mkdir('code')"
=======
    "if not os.path.exists('screenshots_to_convert'):\n",
    "    os.mkdir('screenshots_to_convert')\n",
    "# create directory to store HTML and GUI code generated by \"decoding\" images in screenshots folder \n",
    "if not os.path.exists('generated_code'):\n",
    "    os.mkdir('generated_code')"
>>>>>>> main
   ]
  },
  {
   "cell_type": "markdown",
   "metadata": {},
   "source": [
<<<<<<< HEAD
    "### Generate the code for provided screenshots"
=======
    "### Generate the code for provided screenshots - add files to the screenshots folder"
>>>>>>> main
   ]
  },
  {
   "cell_type": "code",
<<<<<<< HEAD
   "execution_count": 36,
   "metadata": {},
   "outputs": [
    {
     "ename": "TypeError",
     "evalue": "join() got an unexpected keyword argument 'allow_pickle'",
     "output_type": "error",
     "traceback": [
      "\u001b[0;31m---------------------------------------------------------------------------\u001b[0m",
      "\u001b[0;31mTypeError\u001b[0m                                 Traceback (most recent call last)",
      "\u001b[0;32m<ipython-input-36-7469f0054110>\u001b[0m in \u001b[0;36m<module>\u001b[0;34m\u001b[0m\n\u001b[1;32m      8\u001b[0m \u001b[0mfile_name\u001b[0m \u001b[0;34m=\u001b[0m \u001b[0maskopenfilename\u001b[0m\u001b[0;34m(\u001b[0m\u001b[0;34m)\u001b[0m\u001b[0;34m\u001b[0m\u001b[0;34m\u001b[0m\u001b[0m\n\u001b[1;32m      9\u001b[0m \u001b[0;34m\u001b[0m\u001b[0m\n\u001b[0;32m---> 10\u001b[0;31m \u001b[0mmeta_dataset\u001b[0m \u001b[0;34m=\u001b[0m \u001b[0mnp\u001b[0m\u001b[0;34m.\u001b[0m\u001b[0mload\u001b[0m\u001b[0;34m(\u001b[0m\u001b[0mjoin\u001b[0m\u001b[0;34m(\u001b[0m\u001b[0mtrained_weights_path\u001b[0m\u001b[0;34m,\u001b[0m \u001b[0;34m'meta_dataset.npy'\u001b[0m\u001b[0;34m,\u001b[0m \u001b[0mallow_pickle\u001b[0m\u001b[0;34m=\u001b[0m\u001b[0;32mTrue\u001b[0m\u001b[0;34m)\u001b[0m\u001b[0;34m)\u001b[0m\u001b[0;34m\u001b[0m\u001b[0;34m\u001b[0m\u001b[0m\n\u001b[0m\u001b[1;32m     11\u001b[0m \u001b[0minput_shape\u001b[0m \u001b[0;34m=\u001b[0m \u001b[0mmeta_dataset\u001b[0m\u001b[0;34m[\u001b[0m\u001b[0;36m0\u001b[0m\u001b[0;34m]\u001b[0m\u001b[0;34m\u001b[0m\u001b[0;34m\u001b[0m\u001b[0m\n\u001b[1;32m     12\u001b[0m \u001b[0moutput_size\u001b[0m \u001b[0;34m=\u001b[0m \u001b[0mmeta_dataset\u001b[0m\u001b[0;34m[\u001b[0m\u001b[0;36m1\u001b[0m\u001b[0;34m]\u001b[0m\u001b[0;34m\u001b[0m\u001b[0;34m\u001b[0m\u001b[0m\n",
      "\u001b[0;31mTypeError\u001b[0m: join() got an unexpected keyword argument 'allow_pickle'"
     ]
    }
   ],
   "source": [
    "trained_weights_path = 'bin'\n",
    "trained_model_name = 'magicode'\n",
    "input_path = 'screenshots'\n",
    "output_path = 'code'\n",
    "\n",
    "file_name = files.upload()\n",
=======
   "execution_count": null,
   "metadata": {},
   "outputs": [],
   "source": [
    "trained_weights_path = 'bin'\n",
    "trained_model_name = 'magicode'\n",
    "input_path = 'screenshots_to_convert'\n",
    "output_path = 'generated_code'\n",
>>>>>>> main
    "\n",
    "meta_dataset = np.load(join(trained_weights_path, 'meta_dataset.npy'), allow_pickle=True)\n",
    "input_shape = meta_dataset[0]\n",
    "output_size = meta_dataset[1]\n",
    "\n",
    "model = magicode(input_shape, output_size, trained_weights_path)\n",
    "model.load(trained_model_name)\n",
    "\n",
    "sampler = Sampler(trained_weights_path, input_shape, output_size, CONTEXT_LENGTH)\n",
    "\n",
    "for f in os.listdir(input_path):\n",
    "    if f.find('.png') != -1:\n",
<<<<<<< HEAD
    "        evaluation_img = get_preprocessed_img(join(input_path,p), IMAGE_SIZE)\n",
=======
    "        evaluation_img = Utils.get_preprocessed_img(join(input_path,f), IMAGE_SIZE)\n",
>>>>>>> main
    "\n",
    "        file_name = f[:f.find('.png')]\n",
    "\n",
    "        result, _ = sampler.predict_greedy(model, np.array([evaluation_img]))\n",
    "        print('Result greedy: {}'.format(result))\n",
    "\n",
    "        with open(join(output_path, file_name + '.gui'), 'w') as out_f:\n",
    "            out_f.write(result.replace(START_TOKEN, '').replace(END_TOKEN, ''))"
   ]
  },
  {
   "cell_type": "markdown",
   "metadata": {},
   "source": [
    "### Declare compiler"
   ]
  },
  {
   "cell_type": "code",
   "execution_count": null,
   "metadata": {},
   "outputs": [],
   "source": [
    "import json\n",
<<<<<<< HEAD
    "from classes.Node import *\n",
=======
    "import string\n",
    "import random\n",
    "\n",
    "\n",
>>>>>>> main
    "\n",
    "class Compiler:\n",
    "    def __init__(self, dsl_mapping_file_path):\n",
    "        with open(dsl_mapping_file_path) as data_file:\n",
    "            self.dsl_mapping = json.load(data_file)\n",
    "\n",
    "        self.opening_tag = self.dsl_mapping['opening-tag']\n",
    "        self.closing_tag = self.dsl_mapping['closing-tag']\n",
    "        self.content_holder = self.opening_tag + self.closing_tag\n",
    "\n",
    "        self.root = Node('body', None, self.content_holder)\n",
    "\n",
    "    def compile(self, input_file_path, output_file_path, rendering_function=None):\n",
    "        dsl_file = open(input_file_path)\n",
    "        current_parent = self.root\n",
    "\n",
    "        for token in dsl_file:\n",
    "            token = token.replace(' ', '').replace('\\n', '')\n",
    "\n",
    "            if token.find(self.opening_tag) != -1:\n",
    "                token = token.replace(self.opening_tag, '')\n",
    "\n",
    "                element = Node(token, current_parent, self.content_holder)\n",
    "                current_parent.add_child(element)\n",
    "                current_parent = element\n",
    "            elif token.find(self.closing_tag) != -1:\n",
    "                current_parent = current_parent.parent\n",
    "            else:\n",
    "                tokens = token.split(',')\n",
    "                for t in tokens:\n",
    "                    element = Node(t, current_parent, self.content_holder)\n",
    "                    current_parent.add_child(element)\n",
    "\n",
    "        output_html = self.root.render(self.dsl_mapping, rendering_function=rendering_function)\n",
    "        with open(output_file_path, 'w') as output_file:\n",
<<<<<<< HEAD
    "            output_file.write(output_html)"
=======
    "            output_file.write(output_html)\n",
    "\n",
    "class Node:\n",
    "    def __init__(self, key, parent_node, content_holder):\n",
    "        self.key = key\n",
    "        self.parent = parent_node\n",
    "        self.children = []\n",
    "        self.content_holder = content_holder\n",
    "\n",
    "    def add_child(self, child):\n",
    "        self.children.append(child)\n",
    "\n",
    "    def show(self):\n",
    "        print(self.key)\n",
    "        for child in self.children:\n",
    "            child.show()\n",
    "\n",
    "    def render(self, mapping, rendering_function=None):\n",
    "        content = ''\n",
    "        for child in self.children:\n",
    "            content += child.render(mapping, rendering_function)\n",
    "\n",
    "        value = mapping[self.key]\n",
    "        if rendering_function is not None:\n",
    "            value = rendering_function(self.key, value)\n",
    "\n",
    "        if len(self.children) != 0:\n",
    "            value = value.replace(self.content_holder, content)\n",
    "\n",
    "        return value\n",
    "\n",
    "class CompilerUtils:\n",
    "    @staticmethod\n",
    "    def get_random_text(length_text=10, space_number=1, with_upper_case=True):\n",
    "        results = []\n",
    "        while len(results) < length_text:\n",
    "            char = random.choice(string.ascii_letters[:26])\n",
    "            results.append(char)\n",
    "        if with_upper_case:\n",
    "            results[0] = results[0].upper()\n",
    "\n",
    "        current_spaces = []\n",
    "        while len(current_spaces) < space_number:\n",
    "            space_pos = random.randint(2, length_text - 3)\n",
    "            if space_pos in current_spaces:\n",
    "                break\n",
    "            results[space_pos] = \" \"\n",
    "            if with_upper_case:\n",
    "                results[space_pos + 1] = results[space_pos - 1].upper()\n",
    "\n",
    "            current_spaces.append(space_pos)\n",
    "\n",
    "        return ''.join(results)"
>>>>>>> main
   ]
  },
  {
   "cell_type": "markdown",
   "metadata": {},
   "source": [
    "### Compile the generated code"
   ]
  },
  {
   "cell_type": "code",
   "execution_count": null,
   "metadata": {},
   "outputs": [],
   "source": [
    "FILL_WITH_RANDOM_TEXT = True\n",
    "TEXT_PLACE_HOLDER = '[]'\n",
    "\n",
<<<<<<< HEAD
    "dsl_path = join('compiler','assets','dsl-mappgin.json')\n",
=======
    "dsl_path = join('compiler','assets','dsl-mapping.json')\n",
>>>>>>> main
    "compiler = Compiler(dsl_path)\n",
    "\n",
    "def render_content_with_text(key, value):\n",
    "    text_inputs = ['input-text', 'input-password']\n",
    "    control_inputs = ['input-checkbox', 'input-radio']\n",
    "    if FILL_WITH_RANDOM_TEXT:\n",
    "        if key.find('btn') != -1:\n",
<<<<<<< HEAD
    "            value = value.replace(TEXT_PLACE_HOLDER, Utils.get_random_text())\n",
    "        elif key.find('title') != -1:\n",
    "            value = value.replace(TEXT_PLACE_HOLDER, Utils.get_random_text(length_text=5, space_number=0))\n",
    "        elif key.find('text') != -1:\n",
    "            value = value.replace(TEXT_PLACE_HOLDER,\n",
    "                                  Utils.get_random_text(length_text=56, space_number=7, with_upper_case=False))\n",
    "        elif any(text_input in key for text_input in text_inputs):\n",
    "            value = value.replace(TEXT_PLACE_HOLDER, Utils.get_random_text(length_text=30, space_number=0))\n",
    "        elif any(control_input in key for control_input in control_inputs):\n",
    "            value = value.replace(TEXT_PLACE_HOLDER, Utils.get_random_text(length_text=10, space_number=0))\n",
    "    return value\n",
    "\n",
    "path = 'code'\n",
=======
    "            value = value.replace(TEXT_PLACE_HOLDER, CompilerUtils.get_random_text())\n",
    "        elif key.find('title') != -1:\n",
    "            value = value.replace(TEXT_PLACE_HOLDER, CompilerUtils.get_random_text(length_text=5, space_number=0))\n",
    "        elif key.find('text') != -1:\n",
    "            value = value.replace(TEXT_PLACE_HOLDER,\n",
    "                                  CompilerUtils.get_random_text(length_text=56, space_number=7, with_upper_case=False))\n",
    "        elif any(text_input in key for text_input in text_inputs):\n",
    "            value = value.replace(TEXT_PLACE_HOLDER, CompilerUtils.get_random_text(length_text=30, space_number=0))\n",
    "        elif any(control_input in key for control_input in control_inputs):\n",
    "            value = value.replace(TEXT_PLACE_HOLDER, CompilerUtils.get_random_text(length_text=10, space_number=0))\n",
    "    return value\n",
    "\n",
    "path = 'generated_code'\n",
>>>>>>> main
    "generated_code_files = os.listdir(path)\n",
    "\n",
    "for file in generated_code_files:\n",
    "    file_uid = Path(file).stem\n",
<<<<<<< HEAD
    "    input_file_path = join(path, file_uid, '.gui')\n",
    "    output_file_path = join(path, file_uid, '.html')\n",
=======
    "    input_file_path = join(path, file_uid + '.gui')\n",
    "    output_file_path = join(path, file_uid + '.html')\n",
>>>>>>> main
    "\n",
    "    compiler.compile(input_file_path, output_file_path, rendering_function=render_content_with_text)"
   ]
  },
  {
   "cell_type": "code",
   "execution_count": null,
   "metadata": {},
   "outputs": [],
   "source": []
  }
 ],
 "metadata": {
  "kernelspec": {
   "display_name": "Python 3",
   "language": "python",
   "name": "python3"
  },
  "language_info": {
   "codemirror_mode": {
    "name": "ipython",
    "version": 3
   },
   "file_extension": ".py",
   "mimetype": "text/x-python",
   "name": "python",
   "nbconvert_exporter": "python",
   "pygments_lexer": "ipython3",
<<<<<<< HEAD
   "version": "3.8.5"
=======
   "version": "3.8.3"
>>>>>>> main
  }
 },
 "nbformat": 4,
 "nbformat_minor": 4
<<<<<<< HEAD
}
=======
}
>>>>>>> main
