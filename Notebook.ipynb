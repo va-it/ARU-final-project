{
 "cells": [
  {
   "cell_type": "markdown",
   "metadata": {},
   "source": [
    "# This is the Jupyter Notebook for the MAGICODE project"
   ]
  },
  {
   "cell_type": "code",
   "execution_count": 1,
   "metadata": {},
   "outputs": [
    {
     "name": "stdout",
     "output_type": "stream",
     "text": [
      "^C\n",
      "Requirement already satisfied: numpy==1.16.2 in c:\\users\\vince\\anaconda3\\lib\\site-packages (1.16.2)\n"
     ]
    }
   ],
   "source": [
    "#!pip install -r requirements.txt\n",
    "# fix issue ValueError: Object arrays cannot be loaded when allow_pickle=False\n",
    "!pip uninstall numpy\n",
    "!pip install numpy==1.16.2"
   ]
  },
  {
   "cell_type": "code",
   "execution_count": 1,
   "metadata": {},
   "outputs": [],
   "source": [
    "import os\n",
    "os.chdir('model')"
   ]
  },
  {
   "cell_type": "code",
   "execution_count": 18,
   "metadata": {},
   "outputs": [
    {
     "name": "stdout",
     "output_type": "stream",
     "text": [
      "Splitting datasets, training samples: 68.0, evaluation samples: 34.0\n",
      "Training dataset: ../datasets/training_set\n",
      "Evaluation dataset: ../datasets/eval_set\n"
     ]
    }
   ],
   "source": [
    "# split training set and evaluation set while ensuring no training example in the evaluation set\n",
    "# usage: build_datasets.py <input path> <distribution (default: 2)>\n",
    "%run -i build_datasets.py ../datasets/subset"
   ]
  },
  {
   "cell_type": "code",
   "execution_count": 3,
   "metadata": {
    "scrolled": true
   },
   "outputs": [
    {
     "name": "stdout",
     "output_type": "stream",
     "text": [
      "Converting images to numpy arrays...\n",
      "Numpy arrays saved in ../datasets/training_features\n"
     ]
    }
   ],
   "source": [
    "# transform images (normalized pixel values and resized pictures) in training dataset to numpy arrays (smaller files if you need to upload the set to train your model in the cloud)\n",
    "# usage: convert_imgs_to_arrays.py <input path> <output path>\n",
    "%run -i convert_imgs_to_arrays.py ../datasets/training_set ../datasets/training_features"
   ]
  },
  {
   "cell_type": "code",
   "execution_count": 2,
   "metadata": {},
   "outputs": [],
   "source": [
    "os.chdir('../')\n",
    "if not os.path.exists('bin'):\n",
    "    os.mkdir('bin')\n",
    "os.chdir('model')"
   ]
  },
  {
   "cell_type": "code",
   "execution_count": 5,
   "metadata": {},
   "outputs": [
    {
     "name": "stdout",
     "output_type": "stream",
     "text": [
      "Device mapping:\n",
      "/job:localhost/replica:0/task:0/device:XLA_CPU:0 -> device: XLA_CPU device\n",
      "\n",
      "Loading data...\n",
      "Generating sparse vectors...\n",
      "Dataset size: 1566\n",
      "Vocabulary size: 50\n",
      "Input shape: (256, 256, 3)\n",
      "Output size: 50\n",
      "Parsing data...\n",
      "Epoch 1/10\n",
      "25/24 [==============================] - 289s 12s/step - loss: 3.4243\n",
      "Epoch 2/10\n",
      "25/24 [==============================] - 285s 11s/step - loss: 3.3276\n",
      "Epoch 3/10\n",
      "25/24 [==============================] - 286s 11s/step - loss: 3.2976\n",
      "Epoch 4/10\n",
      "25/24 [==============================] - 283s 11s/step - loss: 3.2108\n",
      "Epoch 5/10\n",
      "25/24 [==============================] - 284s 11s/step - loss: 3.1496\n",
      "Epoch 6/10\n",
      "25/24 [==============================] - 286s 11s/step - loss: 3.1018\n",
      "Epoch 7/10\n",
      "25/24 [==============================] - 289s 12s/step - loss: 3.0449\n",
      "Epoch 8/10\n",
      "25/24 [==============================] - 283s 11s/step - loss: 3.0097\n",
      "Epoch 9/10\n",
      "25/24 [==============================] - 277s 11s/step - loss: 2.9533\n",
      "Epoch 10/10\n",
      "25/24 [==============================] - 278s 11s/step - loss: 2.9319\n"
     ]
    }
   ],
   "source": [
    "# train with generator to avoid having to fit all the data in memory (RECOMMENDED)\n",
    "%run -i train.py ../datasets/training_features ../bin 1"
   ]
  },
  {
   "cell_type": "code",
   "execution_count": 13,
   "metadata": {},
   "outputs": [
    {
     "name": "stdout",
     "output_type": "stream",
     "text": [
      "Vocabulary size: 50\n",
      "Input shape: (256, 256, 3)\n",
      "Output size: 50\n",
      "Result greedy: <START><START><START><START>,{\"element\":\"btn-warning\"},{\"element\":\"btn-warning\"},\"body\":{\"rows\":[{\"cards\":[{\"card\":[{\"element\":\"title\"},\"body\":{\"rows\":[{\"cards\":[{\"card\":[{\"element\":\"title\"},{\"card\":[{\"element\":\"title\"},{\"card\":[{\"element\":\"title\"},{\"card\":[{\"element\":\"title\"},{\"card\":[{\"element\":\"title\"},{\"card\":[{\"element\":\"title\"},{\"card\":[{\"element\":\"title\"},{\"card\":[{\"element\":\"title\"},{\"card\":[{\"element\":\"title\"},{\"card\":[{\"element\":\"title\"},{\"card\":[{\"element\":\"title\"},{\"card\":[{\"element\":\"title\"},{\"card\":[{\"element\":\"title\"},{\"card\":[{\"element\":\"title\"},{\"card\":[{\"element\":\"title\"},{\"card\":[{\"element\":\"title\"},{\"card\":[{\"element\":\"title\"},{\"card\":[{\"element\":\"title\"},{\"card\":[{\"element\":\"title\"},{\"card\":[{\"element\":\"title\"},{\"card\":[{\"element\":\"title\"},{\"card\":[{\"element\":\"title\"},{\"card\":[{\"element\":\"title\"}<END>\n"
     ]
    }
   ],
   "source": [
    "# generate DSL code (.gui file), the default search method is greedy\n",
    "# usage: sample.py <trained weights path> <trained model name> <input image> <output path> <search method (default: greedy)>\n",
    "%run -i sample.py ../bin pix2code ../test.png ../code"
   ]
  },
  {
   "cell_type": "code",
   "execution_count": null,
   "metadata": {},
   "outputs": [],
   "source": [
    "os.chdir('../compiler')\n",
    "print(os.getcwd())"
   ]
  },
  {
   "cell_type": "code",
   "execution_count": 5,
   "metadata": {},
   "outputs": [],
   "source": [
    "# compile .gui file to HTML/CSS (Bootstrap style)\n",
    "%run -i web-compiler.py ../code/test.gui"
   ]
  }
 ],
 "metadata": {
  "kernelspec": {
   "display_name": "Python 3",
   "language": "python",
   "name": "python3"
  },
  "language_info": {
   "codemirror_mode": {
    "name": "ipython",
    "version": 3
   },
   "file_extension": ".py",
   "mimetype": "text/x-python",
   "name": "python",
   "nbconvert_exporter": "python",
   "pygments_lexer": "ipython3",
   "version": "3.8.3"
  }
 },
 "nbformat": 4,
 "nbformat_minor": 4
}
